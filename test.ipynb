{
 "cells": [
  {
   "cell_type": "code",
   "execution_count": 1,
   "metadata": {},
   "outputs": [],
   "source": [
    "# Open the binary file and read its contents into a byte array\n",
    "with open(\"gpt2_124M.bin\", \"rb\") as file:\n",
    "    a = file.read()  # This reads the entire file as a bytes object"
   ]
  },
  {
   "cell_type": "code",
   "execution_count": 8,
   "metadata": {},
   "outputs": [
    {
     "name": "stdout",
     "output_type": "stream",
     "text": [
      "b'\\xc6\\xd74\\x01\\x03\\x00\\x00\\x00\\x00\\x04'\n"
     ]
    }
   ],
   "source": [
    "print(a[:10])"
   ]
  },
  {
   "cell_type": "code",
   "execution_count": 3,
   "metadata": {},
   "outputs": [
    {
     "name": "stdout",
     "output_type": "stream",
     "text": [
      "497904640\n"
     ]
    }
   ],
   "source": [
    "print(len(a))"
   ]
  },
  {
   "cell_type": "code",
   "execution_count": 9,
   "metadata": {},
   "outputs": [
    {
     "name": "stdout",
     "output_type": "stream",
     "text": [
      "[198, 215, 52, 1, 3, 0, 0, 0, 0, 4]\n"
     ]
    }
   ],
   "source": [
    "print([byte for byte in a[:10]])"
   ]
  },
  {
   "cell_type": "code",
   "execution_count": null,
   "metadata": {},
   "outputs": [],
   "source": [
    "\n",
    "\n",
    "# Print the bytes object\n",
    "print(a)\n",
    "\n",
    "# Optionally, if you want to see the byte values as integers:\n",
    "print(list(a))\n"
   ]
  },
  {
   "cell_type": "code",
   "execution_count": 10,
   "metadata": {},
   "outputs": [
    {
     "name": "stdout",
     "output_type": "stream",
     "text": [
      "20240326\n"
     ]
    }
   ],
   "source": [
    "import struct\n",
    "\n",
    "# Open the binary file and read its contents into a byte array\n",
    "with open(\"gpt2_124M.bin\", \"rb\") as file:\n",
    "    # Read the first 4 bytes\n",
    "    first_four_bytes = file.read(4)\n",
    "\n",
    "# Unpack the first 4 bytes as a single integer (little endian format)\n",
    "first_integer = struct.unpack('<I', first_four_bytes)[0]\n",
    "\n",
    "print(first_integer)\n"
   ]
  },
  {
   "cell_type": "code",
   "execution_count": null,
   "metadata": {},
   "outputs": [],
   "source": []
  }
 ],
 "metadata": {
  "kernelspec": {
   "display_name": "base",
   "language": "python",
   "name": "python3"
  },
  "language_info": {
   "codemirror_mode": {
    "name": "ipython",
    "version": 3
   },
   "file_extension": ".py",
   "mimetype": "text/x-python",
   "name": "python",
   "nbconvert_exporter": "python",
   "pygments_lexer": "ipython3",
   "version": "3.10.14"
  }
 },
 "nbformat": 4,
 "nbformat_minor": 2
}
